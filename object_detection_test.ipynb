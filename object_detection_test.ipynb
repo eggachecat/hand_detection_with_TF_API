{
 "cells": [
  {
   "cell_type": "markdown",
   "metadata": {},
   "source": [
    "# Object Detection Demo\n",
    "Welcome to the object detection inference walkthrough!  This notebook will walk you step by step through the process of using a pre-trained model to detect objects in an image. Make sure to follow the [installation instructions](https://github.com/tensorflow/models/blob/master/research/object_detection/g3doc/installation.md) before you start."
   ]
  },
  {
   "cell_type": "markdown",
   "metadata": {},
   "source": [
    "# Imports"
   ]
  },
  {
   "cell_type": "code",
   "execution_count": 1,
   "metadata": {
    "scrolled": true
   },
   "outputs": [
    {
     "name": "stdout",
     "output_type": "stream",
     "text": [
      "1.4.0\n"
     ]
    }
   ],
   "source": [
    "import numpy as np\n",
    "import os\n",
    "import six.moves.urllib as urllib\n",
    "import sys\n",
    "import tarfile\n",
    "import tensorflow as tf\n",
    "import zipfile\n",
    "\n",
    "from collections import defaultdict\n",
    "from io import StringIO\n",
    "from matplotlib import pyplot as plt\n",
    "from PIL import Image\n",
    "print(tf.__version__)\n",
    "if tf.__version__ < '1.4.0':\n",
    "  raise ImportError('Please upgrade your tensorflow installation to v1.4.* or later!')\n"
   ]
  },
  {
   "cell_type": "markdown",
   "metadata": {},
   "source": [
    "## Env setup"
   ]
  },
  {
   "cell_type": "code",
   "execution_count": 2,
   "metadata": {
    "collapsed": true
   },
   "outputs": [],
   "source": [
    "# This is needed to display the images.\n",
    "%matplotlib inline\n",
    "\n",
    "# This is needed since the notebook is stored in the object_detection folder.\n",
    "sys.path.append(\"..\")"
   ]
  },
  {
   "cell_type": "markdown",
   "metadata": {},
   "source": [
    "## Object detection imports\n",
    "Here are the imports from the object detection module."
   ]
  },
  {
   "cell_type": "code",
   "execution_count": 3,
   "metadata": {
    "collapsed": true
   },
   "outputs": [],
   "source": [
    "from utils import label_map_util\n",
    "\n",
    "from utils import visualization_utils as vis_util"
   ]
  },
  {
   "cell_type": "markdown",
   "metadata": {},
   "source": [
    "# Model preparation "
   ]
  },
  {
   "cell_type": "markdown",
   "metadata": {},
   "source": [
    "## Variables\n",
    "\n",
    "Any model exported using the `export_inference_graph.py` tool can be loaded here simply by changing `PATH_TO_CKPT` to point to a new .pb file.  \n",
    "\n",
    "By default we use an \"SSD with Mobilenet\" model here. See the [detection model zoo](https://github.com/tensorflow/models/blob/master/research/object_detection/g3doc/detection_model_zoo.md) for a list of other models that can be run out-of-the-box with varying speeds and accuracies."
   ]
  },
  {
   "cell_type": "code",
   "execution_count": 4,
   "metadata": {},
   "outputs": [
    {
     "name": "stdout",
     "output_type": "stream",
     "text": [
      "D:\\envs\\models\\research\\object_detection\\training\\label_map.pbtxt\n"
     ]
    }
   ],
   "source": [
    "# What model to download.\n",
    "MODEL_NAME = 'hand_detection'\n",
    "\n",
    "# Path to frozen detection graph. This is the actual model that is used for the object detection.\n",
    "PATH_TO_CKPT = MODEL_NAME + '/frozen_inference_graph.pb'\n",
    "\n",
    "# List of the strings that is used to add correct label for each box.\n",
    "PATH_TO_LABELS = 'D:\\\\envs\\\\models\\\\research\\\\object_detection\\\\training\\\\label_map.pbtxt'\n",
    "print(PATH_TO_LABELS)\n",
    "\n",
    "NUM_CLASSES = 2"
   ]
  },
  {
   "cell_type": "markdown",
   "metadata": {},
   "source": [
    "## Load a (frozen) Tensorflow model into memory."
   ]
  },
  {
   "cell_type": "code",
   "execution_count": 5,
   "metadata": {
    "collapsed": true
   },
   "outputs": [],
   "source": [
    "detection_graph = tf.Graph()\n",
    "with detection_graph.as_default():\n",
    "  od_graph_def = tf.GraphDef()\n",
    "  with tf.gfile.GFile(PATH_TO_CKPT, 'rb') as fid:\n",
    "    serialized_graph = fid.read()\n",
    "    od_graph_def.ParseFromString(serialized_graph)\n",
    "    tf.import_graph_def(od_graph_def, name='')"
   ]
  },
  {
   "cell_type": "markdown",
   "metadata": {},
   "source": [
    "## Loading label map\n",
    "Label maps map indices to category names, so that when our convolution network predicts `5`, we know that this corresponds to `airplane`.  Here we use internal utility functions, but anything that returns a dictionary mapping integers to appropriate string labels would be fine"
   ]
  },
  {
   "cell_type": "code",
   "execution_count": 6,
   "metadata": {
    "collapsed": true
   },
   "outputs": [],
   "source": [
    "label_map = label_map_util.load_labelmap(PATH_TO_LABELS)\n",
    "categories = label_map_util.convert_label_map_to_categories(label_map, max_num_classes=NUM_CLASSES, use_display_name=True)\n",
    "category_index = label_map_util.create_category_index(categories)"
   ]
  },
  {
   "cell_type": "markdown",
   "metadata": {},
   "source": [
    "## Helper code"
   ]
  },
  {
   "cell_type": "code",
   "execution_count": 7,
   "metadata": {
    "collapsed": true
   },
   "outputs": [],
   "source": [
    "def load_image_into_numpy_array(image):\n",
    "  (im_width, im_height) = image.size\n",
    "  return np.array(image.getdata()).reshape(\n",
    "      (im_height, im_width, 3)).astype(np.uint8)"
   ]
  },
  {
   "cell_type": "markdown",
   "metadata": {},
   "source": [
    "# Detection"
   ]
  },
  {
   "cell_type": "code",
   "execution_count": 8,
   "metadata": {
    "collapsed": true
   },
   "outputs": [],
   "source": [
    "# For the sake of simplicity we will use only 2 images:\n",
    "# image1.jpg\n",
    "# image2.jpg\n",
    "# If you want to test the code with your images, just add path to the images to the TEST_IMAGE_PATHS.\n",
    "PATH_TO_TEST_IMAGES_DIR = 'test_images'\n",
    "TEST_IMAGE_PATHS = [ os.path.join(PATH_TO_TEST_IMAGES_DIR, filename) for filename in  os.listdir(PATH_TO_TEST_IMAGES_DIR)]\n",
    "\n",
    "# Size, in inches, of the output images.\n",
    "IMAGE_SIZE = (12, 8)"
   ]
  },
  {
   "cell_type": "code",
   "execution_count": 19,
   "metadata": {
    "scrolled": true
   },
   "outputs": [
    {
     "name": "stdout",
     "output_type": "stream",
     "text": [
      "[[[ 0.05389106  0.04966885  0.95608127  0.94140393]\n",
      "  [ 0.          0.          0.64803207  0.6522823 ]\n",
      "  [ 0.34680039  0.          1.          0.64857781]\n",
      "  [ 0.34561086  0.35743007  1.          1.        ]\n",
      "  [ 0.          0.35121474  0.64861643  1.        ]\n",
      "  [ 0.          0.01839827  0.90709275  0.49081546]\n",
      "  [ 0.01164398  0.          0.4937835   0.90909022]\n",
      "  [ 0.50376666  0.10769147  0.98243654  1.        ]\n",
      "  [ 0.08823967  0.51617503  1.          0.98661053]\n",
      "  [ 0.1692515   0.1648989   0.84492916  0.83722353]\n",
      "  [ 0.3742387   0.26006532  1.          0.73434359]\n",
      "  [ 0.37798467  0.          1.          0.40006912]\n",
      "  [ 0.27100122  0.36987659  0.74364209  1.        ]\n",
      "  [ 0.6011982   0.38147187  1.          1.        ]\n",
      "  [ 0.          0.2961905   1.          0.69769603]\n",
      "  [ 0.63292462  0.          1.          0.71109748]\n",
      "  [ 0.30592111  0.          0.69975185  0.72465783]\n",
      "  [ 0.          0.30973122  0.36408228  1.        ]\n",
      "  [ 0.          0.          0.50162202  0.49451423]\n",
      "  [ 0.26138312  0.05823749  0.75855666  0.95495421]\n",
      "  [ 0.          0.          0.36712551  0.7017796 ]\n",
      "  [ 0.2967239   0.63472879  1.          1.        ]\n",
      "  [ 0.          0.63117164  0.6977911   1.        ]\n",
      "  [ 0.          0.2627998   0.62114424  0.74277979]\n",
      "  [ 0.          0.50276953  0.50280291  1.        ]\n",
      "  [ 0.          0.          0.69966793  0.35138452]\n",
      "  [ 0.22268131  0.          0.77917874  1.        ]\n",
      "  [ 0.92525697  0.          1.          0.07683277]\n",
      "  [ 0.          0.21989048  1.          0.77756882]\n",
      "  [ 0.872464    0.          0.97216028  0.07664769]\n",
      "  [ 0.01061901  0.09688926  0.49166939  1.        ]\n",
      "  [ 0.03035647  0.          0.13005643  0.07664734]\n",
      "  [ 0.08299392  0.          0.18268827  0.07665028]\n",
      "  [ 0.81983578  0.          0.91953075  0.0766499 ]\n",
      "  [ 0.60930961  0.          0.70900434  0.07665013]\n",
      "  [ 0.66194123  0.          0.76163596  0.07665013]\n",
      "  [ 0.71457279  0.          0.81426752  0.07665013]\n",
      "  [ 0.55667806  0.          0.65637279  0.07665013]\n",
      "  [ 0.5040465   0.          0.60374123  0.07665013]\n",
      "  [ 0.76720446  0.          0.86689907  0.07665014]\n",
      "  [ 0.45141491  0.          0.55110961  0.07665013]\n",
      "  [ 0.39878336  0.          0.49847803  0.07665014]\n",
      "  [ 0.34615177  0.          0.44584644  0.07665014]\n",
      "  [ 0.29352021  0.          0.39321488  0.07665014]\n",
      "  [ 0.24088868  0.          0.34058329  0.07665015]\n",
      "  [ 0.18825711  0.          0.28795171  0.07665016]\n",
      "  [ 0.13562551  0.          0.23532012  0.07665017]\n",
      "  [ 0.92535108  0.92429566  1.          1.        ]\n",
      "  [ 0.92532247  0.13481009  1.          0.23474541]\n",
      "  [ 0.92532247  0.7137574   1.          0.81369281]\n",
      "  [ 0.92532247  0.66112584  1.          0.76106125]\n",
      "  [ 0.92532247  0.60849422  1.          0.70842963]\n",
      "  [ 0.92532247  0.76638901  1.          0.86632442]\n",
      "  [ 0.92532241  0.29270479  1.          0.39264014]\n",
      "  [ 0.92532241  0.24007323  1.          0.34000859]\n",
      "  [ 0.92532241  0.18744166  1.          0.287377  ]\n",
      "  [ 0.92532247  0.55586267  1.          0.65579808]\n",
      "  [ 0.92532247  0.50323111  1.          0.60316652]\n",
      "  [ 0.92532247  0.45059952  1.          0.5505349 ]\n",
      "  [ 0.92532247  0.39796796  1.          0.49790332]\n",
      "  [ 0.92532247  0.34533638  1.          0.44527173]\n",
      "  [ 0.92532212  0.81902081  1.          0.91895574]\n",
      "  [ 0.92532295  0.08217871  1.          0.18211356]\n",
      "  [ 0.87268913  0.92432237  0.97203815  1.        ]\n",
      "  [ 0.92532855  0.87165153  1.          0.97158873]\n",
      "  [ 0.92532468  0.02954838  1.          0.12949242]\n",
      "  [ 0.82005525  0.92432779  0.91941214  1.        ]\n",
      "  [ 0.13584435  0.92432797  0.23520112  1.        ]\n",
      "  [ 0.6095286   0.92432791  0.70888525  1.        ]\n",
      "  [ 0.50426549  0.92432797  0.60362214  1.        ]\n",
      "  [ 0.66216022  0.92432797  0.76151687  1.        ]\n",
      "  [ 0.55689704  0.92432791  0.6562537   1.        ]\n",
      "  [ 0.71479177  0.92432797  0.81414843  1.        ]\n",
      "  [ 0.39900231  0.92432797  0.49835896  1.        ]\n",
      "  [ 0.45163387  0.92432797  0.55099052  1.        ]\n",
      "  [ 0.34637073  0.92432797  0.44572738  1.        ]\n",
      "  [ 0.24110758  0.92432797  0.34046423  1.        ]\n",
      "  [ 0.29373914  0.92432797  0.39309579  1.        ]\n",
      "  [ 0.188476    0.92432797  0.28783265  1.        ]\n",
      "  [ 0.76742345  0.92432797  0.8667801   1.        ]\n",
      "  [ 0.08321286  0.92432815  0.18256968  1.        ]\n",
      "  [ 0.03057618  0.92433006  0.12994501  1.        ]\n",
      "  [ 0.          0.92421687  0.07729451  1.        ]\n",
      "  [ 0.87252587  0.13489237  0.97212321  0.23454666]\n",
      "  [ 0.87252593  0.18752398  0.97212327  0.28717834]\n",
      "  [ 0.87252593  0.71383977  0.97212327  0.81349409]\n",
      "  [ 0.87252593  0.29278708  0.97212327  0.39244145]\n",
      "  [ 0.87252593  0.24015552  0.97212327  0.33980989]\n",
      "  [ 0.87252599  0.34541866  0.97212332  0.44507304]\n",
      "  [ 0.87252599  0.45068184  0.97212332  0.55033618]\n",
      "  [ 0.87252599  0.50331342  0.97212332  0.60296786]\n",
      "  [ 0.87252593  0.60857654  0.97212327  0.70823097]\n",
      "  [ 0.87252593  0.66120815  0.97212327  0.76086259]\n",
      "  [ 0.87252599  0.39805025  0.97212332  0.49770463]\n",
      "  [ 0.87252599  0.55594498  0.97212332  0.65559942]\n",
      "  [ 0.87252587  0.76647139  0.97212332  0.8661257 ]\n",
      "  [ 0.87252557  0.8191033   0.97212303  0.91875643]\n",
      "  [ 0.87252605  0.08226129  0.97212303  0.18191543]\n",
      "  [ 0.87252039  0.02963189  0.97212368  0.12929764]\n",
      "  [ 0.87254018  0.87173444  0.97211403  0.97139353]]] [[ 0.38194859  0.38068885  0.37566698  0.37405506  0.37092879  0.3688705\n",
      "   0.36563277  0.35724682  0.35476461  0.34171996  0.33884555  0.33383605\n",
      "   0.32897303  0.32396021  0.32369298  0.3234455   0.32197484  0.32086465\n",
      "   0.32055494  0.31828368  0.31805155  0.31543753  0.31287763  0.31052929\n",
      "   0.31047022  0.30275184  0.28992146  0.27308416  0.27300772  0.27264911\n",
      "   0.27256888  0.27253664  0.27248502  0.2724818   0.27247858  0.27247858\n",
      "   0.27247858  0.27247852  0.27247843  0.27247834  0.27247822  0.27247804\n",
      "   0.2724779   0.27247781  0.27247775  0.27247769  0.2724776   0.27233323\n",
      "   0.27226102  0.27226037  0.27226025  0.27226013  0.27226007  0.27226007\n",
      "   0.27226007  0.27226007  0.27226007  0.27225998  0.27225998  0.27225998\n",
      "   0.27225995  0.27225477  0.27224687  0.27221954  0.2721813   0.27214172\n",
      "   0.27208713  0.27208588  0.27208546  0.27208546  0.27208546  0.27208546\n",
      "   0.27208546  0.2720854   0.2720854   0.27208537  0.27208534  0.27208534\n",
      "   0.27208534  0.27208495  0.27208245  0.27197784  0.27194139  0.27190304\n",
      "   0.27190202  0.27190199  0.27190197  0.27190194  0.27190191  0.27190191\n",
      "   0.27190188  0.27190188  0.27190188  0.27190185  0.27190185  0.27190074\n",
      "   0.27189484  0.27189389  0.27188107  0.27184635]] [[ 1.  1.  1.  1.  1.  1.  1.  1.  1.  1.  1.  1.  1.  1.  1.  1.  1.  1.\n",
      "   1.  1.  1.  1.  1.  1.  1.  1.  2.  1.  2.  1.  2.  1.  1.  1.  1.  1.\n",
      "   1.  1.  1.  1.  1.  1.  1.  1.  1.  1.  1.  1.  1.  1.  1.  1.  1.  1.\n",
      "   1.  1.  1.  1.  1.  1.  1.  1.  1.  1.  1.  1.  1.  1.  1.  1.  1.  1.\n",
      "   1.  1.  1.  1.  1.  1.  1.  1.  1.  1.  1.  1.  1.  1.  1.  1.  1.  1.\n",
      "   1.  1.  1.  1.  1.  1.  1.  1.  1.  1.]] [ 100.]\n"
     ]
    },
    {
     "ename": "NameError",
     "evalue": "name 'a' is not defined",
     "traceback": [
      "\u001b[1;31m---------------------------------------------------------------------------\u001b[0m",
      "\u001b[1;31mNameError\u001b[0m                                 Traceback (most recent call last)",
      "\u001b[1;32m<ipython-input-19-6e5550b3ed87>\u001b[0m in \u001b[0;36m<module>\u001b[1;34m()\u001b[0m\n\u001b[0;32m     30\u001b[0m           \u001b[0mcategory_index\u001b[0m\u001b[1;33m,\u001b[0m\u001b[1;33m\u001b[0m\u001b[0m\n\u001b[0;32m     31\u001b[0m           \u001b[0muse_normalized_coordinates\u001b[0m\u001b[1;33m=\u001b[0m\u001b[1;32mTrue\u001b[0m\u001b[1;33m,\u001b[0m\u001b[1;33m\u001b[0m\u001b[0m\n\u001b[1;32m---> 32\u001b[1;33m           \u001b[0mmin_score_thresh\u001b[0m\u001b[1;33m=\u001b[0m\u001b[0mnp\u001b[0m\u001b[1;33m.\u001b[0m\u001b[0msort\u001b[0m\u001b[1;33m(\u001b[0m\u001b[0ma\u001b[0m\u001b[1;33m,\u001b[0m \u001b[0maxis\u001b[0m\u001b[1;33m=\u001b[0m\u001b[1;32mNone\u001b[0m\u001b[1;33m)\u001b[0m\u001b[1;33m[\u001b[0m\u001b[1;33m-\u001b[0m\u001b[1;36m2\u001b[0m\u001b[1;33m]\u001b[0m\u001b[1;33m,\u001b[0m\u001b[1;33m\u001b[0m\u001b[0m\n\u001b[0m\u001b[0;32m     33\u001b[0m           line_thickness=8)\n\u001b[0;32m     34\u001b[0m       \u001b[0mplt\u001b[0m\u001b[1;33m.\u001b[0m\u001b[0mfigure\u001b[0m\u001b[1;33m(\u001b[0m\u001b[0mfigsize\u001b[0m\u001b[1;33m=\u001b[0m\u001b[0mIMAGE_SIZE\u001b[0m\u001b[1;33m)\u001b[0m\u001b[1;33m\u001b[0m\u001b[0m\n",
      "\u001b[1;31mNameError\u001b[0m: name 'a' is not defined"
     ],
     "output_type": "error"
    }
   ],
   "source": [
    "with detection_graph.as_default():\n",
    "  with tf.Session(graph=detection_graph) as sess:\n",
    "    # Definite input and output Tensors for detection_graph\n",
    "    image_tensor = detection_graph.get_tensor_by_name('image_tensor:0')\n",
    "    # Each box represents a part of the image where a particular object was detected.\n",
    "    detection_boxes = detection_graph.get_tensor_by_name('detection_boxes:0')\n",
    "    # Each score represent how level of confidence for each of the objects.\n",
    "    # Score is shown on the result image, together with the class label.\n",
    "    detection_scores = detection_graph.get_tensor_by_name('detection_scores:0')\n",
    "    detection_classes = detection_graph.get_tensor_by_name('detection_classes:0')\n",
    "    num_detections = detection_graph.get_tensor_by_name('num_detections:0')\n",
    "    for image_path in TEST_IMAGE_PATHS:\n",
    "      image = Image.open(image_path)\n",
    "      # the array based representation of the image will be used later in order to prepare the\n",
    "      # result image with boxes and labels on it.\n",
    "      image_np = load_image_into_numpy_array(image)\n",
    "      # Expand dimensions since the model expects images to have shape: [1, None, None, 3]\n",
    "      image_np_expanded = np.expand_dims(image_np, axis=0)\n",
    "      # Actual detection.\n",
    "      (boxes, scores, classes, num) = sess.run(\n",
    "          [detection_boxes, detection_scores, detection_classes, num_detections],\n",
    "          feed_dict={image_tensor: image_np_expanded})\n",
    "      #print(boxes, scores, classes, num)\n",
    "    # Visualization of the results of a detection.\n",
    "      vis_util.visualize_boxes_and_labels_on_image_array(\n",
    "          image_np,\n",
    "          np.squeeze(boxes),\n",
    "          np.squeeze(classes).astype(np.int32),\n",
    "          np.squeeze(scores),\n",
    "          category_index,\n",
    "          use_normalized_coordinates=True,\n",
    "          min_score_thresh=np.sort(scores, axis=None)[-2],\n",
    "          line_thickness=8)\n",
    "      plt.figure(figsize=IMAGE_SIZE)\n",
    "      plt.imshow(image_np)"
   ]
  },
  {
   "cell_type": "code",
   "execution_count": null,
   "metadata": {
    "collapsed": true
   },
   "outputs": [],
   "source": []
  }
 ],
 "metadata": {
  "kernelspec": {
   "display_name": "od",
   "language": "python",
   "name": "od"
  },
  "language_info": {
   "codemirror_mode": {
    "name": "ipython",
    "version": 3
   },
   "file_extension": ".py",
   "mimetype": "text/x-python",
   "name": "python",
   "nbconvert_exporter": "python",
   "pygments_lexer": "ipython3",
   "version": "3.6.1"
  }
 },
 "nbformat": 4,
 "nbformat_minor": 2
}
